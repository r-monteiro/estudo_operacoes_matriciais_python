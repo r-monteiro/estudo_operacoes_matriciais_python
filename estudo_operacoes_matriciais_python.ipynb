{
  "nbformat": 4,
  "nbformat_minor": 0,
  "metadata": {
    "colab": {
      "provenance": []
    },
    "kernelspec": {
      "name": "python3",
      "display_name": "Python 3"
    },
    "language_info": {
      "name": "python"
    }
  },
  "cells": [
    {
      "cell_type": "markdown",
      "source": [
        "**ADIÇÃO**"
      ],
      "metadata": {
        "id": "uPWDMg6tAcTh"
      }
    },
    {
      "cell_type": "code",
      "source": [
        "def soma_matrizes(matriz1, matriz2):\n",
        "    if len(matriz1) != len(matriz2) or len(matriz1[0]) != len(matriz2[0]):\n",
        "        print(\"As matrizes têm tamanhos diferentes. A adição não é possível.\")\n",
        "        return None\n",
        "\n",
        "    return [[matriz1[i][j] + matriz2[i][j] for j in range(len(matriz1[0]))] for i in range(len(matriz1))]\n",
        "\n",
        "def obter_matriz():\n",
        "    num_linhas, num_colunas = map(int, input(\"Digite o número de linhas e colunas da matriz (separados por espaço): \").split())\n",
        "    return [[float(input(f\"Digite o valor para a posição [{i+1}, {j+1}]: \")) for j in range(num_colunas)] for i in range(num_linhas)]\n",
        "\n",
        "print(\"Matriz 1:\")\n",
        "matriz1 = obter_matriz()\n",
        "\n",
        "print(\"\\nMatriz 2:\")\n",
        "matriz2 = obter_matriz()\n",
        "\n",
        "resultado = soma_matrizes(matriz1, matriz2)\n",
        "\n",
        "if resultado is not None:\n",
        "    print(\"\\nMatriz resultante da adição:\")\n",
        "    for linha in resultado:\n",
        "        print(linha)"
      ],
      "metadata": {
        "colab": {
          "base_uri": "https://localhost:8080/"
        },
        "id": "YVXBpejlwgW1",
        "outputId": "8433b464-1577-4450-a78e-a8c7f66c882a"
      },
      "execution_count": null,
      "outputs": [
        {
          "output_type": "stream",
          "name": "stdout",
          "text": [
            "Matriz 1:\n",
            "Digite o número de linhas e colunas da matriz (separados por espaço): 2 2\n",
            "Digite o valor para a posição [1, 1]: 1\n",
            "Digite o valor para a posição [1, 2]: 2\n",
            "Digite o valor para a posição [2, 1]: 3\n",
            "Digite o valor para a posição [2, 2]: 4\n",
            "\n",
            "Matriz 2:\n",
            "Digite o número de linhas e colunas da matriz (separados por espaço): 2 2\n",
            "Digite o valor para a posição [1, 1]: 1\n",
            "Digite o valor para a posição [1, 2]: 2\n",
            "Digite o valor para a posição [2, 1]: 3\n",
            "Digite o valor para a posição [2, 2]: 4\n",
            "\n",
            "Matriz resultante da adição:\n",
            "[2.0, 4.0]\n",
            "[6.0, 8.0]\n"
          ]
        }
      ]
    },
    {
      "cell_type": "markdown",
      "source": [
        "**SUBTRAÇÃO**"
      ],
      "metadata": {
        "id": "l4QnwiauAcaJ"
      }
    },
    {
      "cell_type": "code",
      "source": [
        "\n",
        "def subtrai_matrizes(matriz1, matriz2):\n",
        "    if len(matriz1) != len(matriz2) or len(matriz1[0]) != len(matriz2[0]):\n",
        "        print(\"As matrizes têm tamanhos diferentes. A subtração não é possível.\")\n",
        "        return None\n",
        "\n",
        "    return [[matriz1[i][j] - matriz2[i][j] for j in range(len(matriz1[0]))] for i in range(len(matriz1))]\n",
        "\n",
        "def obter_matriz():\n",
        "    num_linhas, num_colunas = map(int, input(\"Digite o número de linhas e colunas da matriz (separados por espaço): \").split())\n",
        "    return [[float(input(f\"Digite o valor para a posição [{i+1}, {j+1}]: \")) for j in range(num_colunas)] for i in range(num_linhas)]\n",
        "\n",
        "print(\"Matriz 1:\")\n",
        "matriz1 = obter_matriz()\n",
        "\n",
        "print(\"\\nMatriz 2:\")\n",
        "matriz2 = obter_matriz()\n",
        "\n",
        "resultado = subtrai_matrizes(matriz1, matriz2)\n",
        "\n",
        "if resultado is not None:\n",
        "    print(\"\\nMatriz resultante da subtração:\")\n",
        "    for linha in resultado:\n",
        "        print(linha)"
      ],
      "metadata": {
        "colab": {
          "base_uri": "https://localhost:8080/"
        },
        "id": "uNR3zDu9upRa",
        "outputId": "25c73ba1-a292-4012-d103-af6656149774"
      },
      "execution_count": null,
      "outputs": [
        {
          "output_type": "stream",
          "name": "stdout",
          "text": [
            "Matriz 1:\n",
            "Digite o número de linhas e colunas da matriz (separados por espaço): 2 1\n",
            "Digite o valor para a posição [1, 1]: 2\n",
            "Digite o valor para a posição [2, 1]: 1\n",
            "\n",
            "Matriz 2:\n",
            "Digite o número de linhas e colunas da matriz (separados por espaço): 2 2\n",
            "Digite o valor para a posição [1, 1]: 1\n",
            "Digite o valor para a posição [1, 2]: 2\n",
            "Digite o valor para a posição [2, 1]: 2\n",
            "Digite o valor para a posição [2, 2]: 3\n",
            "As matrizes têm tamanhos diferentes. A subtração não é possível.\n"
          ]
        }
      ]
    },
    {
      "cell_type": "markdown",
      "source": [
        "**MULTIPLICAÇÃO**"
      ],
      "metadata": {
        "id": "JojfTbieAcg5"
      }
    },
    {
      "cell_type": "code",
      "source": [
        "def multiplicar_matrizes(matriz1, matriz2):\n",
        "    if len(matriz1[0]) != len(matriz2):\n",
        "        raise ValueError(\"Número de colunas da primeira matriz deve ser igual ao número de linhas da segunda matriz.\")\n",
        "\n",
        "    return [[sum(matriz1[i][k] * matriz2[k][j] for k in range(len(matriz2))) for j in range(len(matriz2[0]))] for i in range(len(matriz1))]\n",
        "\n",
        "def obter_matriz():\n",
        "    num_linhas, num_colunas = map(int, input(\"Digite o número de linhas e colunas da matriz (separados por espaço): \").split())\n",
        "    return [[float(input(f\"Digite o valor para a posição [{i+1}, {j+1}]: \")) for j in range(num_colunas)] for i in range(num_linhas)]\n",
        "\n",
        "try:\n",
        "    matriz_A = obter_matriz()\n",
        "    matriz_B = obter_matriz()\n",
        "\n",
        "    resultado_multiplicacao = multiplicar_matrizes(matriz_A, matriz_B)\n",
        "    print(\"\\nResultado da multiplicação de matrizes:\")\n",
        "    for linha in resultado_multiplicacao:\n",
        "        print(linha)\n",
        "except ValueError as e:\n",
        "    print(f\"\\nErro: {e}\")"
      ],
      "metadata": {
        "id": "b2W9rDP9wAzC",
        "colab": {
          "base_uri": "https://localhost:8080/"
        },
        "outputId": "7277cacd-de67-4f58-91a2-03000a5bcf05"
      },
      "execution_count": null,
      "outputs": [
        {
          "output_type": "stream",
          "name": "stdout",
          "text": [
            "Digite o número de linhas e colunas da matriz (separados por espaço): 2 2\n",
            "Digite o valor para a posição [1, 1]: 2\n",
            "Digite o valor para a posição [1, 2]: 5\n",
            "Digite o valor para a posição [2, 1]: 1\n",
            "Digite o valor para a posição [2, 2]: 9\n",
            "Digite o número de linhas e colunas da matriz (separados por espaço): 2 2\n",
            "Digite o valor para a posição [1, 1]: 3\n",
            "Digite o valor para a posição [1, 2]: 5\n",
            "Digite o valor para a posição [2, 1]: 4\n",
            "Digite o valor para a posição [2, 2]: 1\n",
            "\n",
            "Resultado da multiplicação de matrizes:\n",
            "[26.0, 15.0]\n",
            "[39.0, 14.0]\n"
          ]
        }
      ]
    },
    {
      "cell_type": "markdown",
      "source": [
        "**MULTIPLICAÇÃO POR UM NÚMERO REAL**"
      ],
      "metadata": {
        "id": "_JuriceTAcop"
      }
    },
    {
      "cell_type": "code",
      "source": [
        "def multiplicar_matriz_por_escalar(matriz, escalar):\n",
        "    linhas = len(matriz)\n",
        "    colunas = len(matriz[0])\n",
        "\n",
        "    resultado = [[0] * colunas for _ in range(linhas)]\n",
        "\n",
        "    for i in range(linhas):\n",
        "        for j in range(colunas):\n",
        "            resultado[i][j] = matriz[i][j] * escalar\n",
        "\n",
        "    return resultado\n",
        "\n",
        "def obter_matriz():\n",
        "    num_linhas, num_colunas = map(int, input(\"Digite o número de linhas e colunas da matriz (separados por espaço): \").split())\n",
        "    return [[float(input(f\"Digite o valor para a posição [{i+1}, {j+1}]: \")) for j in range(num_colunas)] for i in range(num_linhas)]\n",
        "\n",
        "matriz_original = obter_matriz()\n",
        "\n",
        "escalar = float(input(\"Digite o número real pelo qual deseja multiplicar a matriz: \"))\n",
        "\n",
        "resultado_multiplicacao = multiplicar_matriz_por_escalar(matriz_original, escalar)\n",
        "\n",
        "print(\"\\nMatriz original:\")\n",
        "for linha in matriz_original:\n",
        "    print(linha)\n",
        "\n",
        "print(\"\\nMatriz multiplicada por\", escalar, \":\")\n",
        "for linha in resultado_multiplicacao:\n",
        "    print(linha)"
      ],
      "metadata": {
        "colab": {
          "base_uri": "https://localhost:8080/"
        },
        "id": "uxcOlc_1wiEp",
        "outputId": "c157a96a-0ee5-4b03-8693-c27d2fe10700"
      },
      "execution_count": null,
      "outputs": [
        {
          "output_type": "stream",
          "name": "stdout",
          "text": [
            "Digite o número de linhas e colunas da matriz (separados por espaço): 2 2\n",
            "Digite o valor para a posição [1, 1]: 1\n",
            "Digite o valor para a posição [1, 2]: 2\n",
            "Digite o valor para a posição [2, 1]: 3\n",
            "Digite o valor para a posição [2, 2]: 4\n",
            "Digite o número real pelo qual deseja multiplicar a matriz: 5\n",
            "\n",
            "Matriz original:\n",
            "[1.0, 2.0]\n",
            "[3.0, 4.0]\n",
            "\n",
            "Matriz multiplicada por 5.0 :\n",
            "[5.0, 10.0]\n",
            "[15.0, 20.0]\n"
          ]
        }
      ]
    }
  ]
}